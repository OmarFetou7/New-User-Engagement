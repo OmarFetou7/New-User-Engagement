{
 "cells": [
  {
   "cell_type": "code",
   "execution_count": 17,
   "id": "cb03aedb",
   "metadata": {},
   "outputs": [
    {
     "name": "stdout",
     "output_type": "stream",
     "text": [
      "The autoreload extension is already loaded. To reload it, use:\n",
      "  %reload_ext autoreload\n"
     ]
    }
   ],
   "source": [
    "%load_ext autoreload\n",
    "%autoreload 2\n",
    "import pandas as pd\n",
    "import numpy as np\n",
    "from train import load_dataset,train,eval"
   ]
  },
  {
   "cell_type": "code",
   "execution_count": 19,
   "id": "11b54583",
   "metadata": {},
   "outputs": [],
   "source": [
    "X_train, X_test, y_train, y_test = load_dataset(test_size=0.2)"
   ]
  },
  {
   "cell_type": "code",
   "execution_count": 20,
   "id": "9666f278",
   "metadata": {},
   "outputs": [
    {
     "name": "stderr",
     "output_type": "stream",
     "text": [
      "/home/omarfetou7/anaconda3/envs/ml-lab1/lib/python3.11/site-packages/xgboost/core.py:377: FutureWarning: Your system has an old version of glibc (< 2.28). We will stop supporting Linux distros with glibc older than 2.28 after **May 31, 2025**. Please upgrade to a recent Linux distro (with glibc >= 2.28) to use future versions of XGBoost.\n",
      "Note: You have installed the 'manylinux2014' variant of XGBoost. Certain features such as GPU algorithms or federated learning are not available. To use these features, please upgrade to a recent Linux distro with glibc 2.28+, and install the 'manylinux_2_28' variant.\n",
      "  warnings.warn(\n",
      "/home/omarfetou7/anaconda3/envs/ml-lab1/lib/python3.11/site-packages/xgboost/core.py:377: FutureWarning: Your system has an old version of glibc (< 2.28). We will stop supporting Linux distros with glibc older than 2.28 after **May 31, 2025**. Please upgrade to a recent Linux distro (with glibc >= 2.28) to use future versions of XGBoost.\n",
      "Note: You have installed the 'manylinux2014' variant of XGBoost. Certain features such as GPU algorithms or federated learning are not available. To use these features, please upgrade to a recent Linux distro with glibc 2.28+, and install the 'manylinux_2_28' variant.\n",
      "  warnings.warn(\n",
      "/home/omarfetou7/anaconda3/envs/ml-lab1/lib/python3.11/site-packages/xgboost/core.py:377: FutureWarning: Your system has an old version of glibc (< 2.28). We will stop supporting Linux distros with glibc older than 2.28 after **May 31, 2025**. Please upgrade to a recent Linux distro (with glibc >= 2.28) to use future versions of XGBoost.\n",
      "Note: You have installed the 'manylinux2014' variant of XGBoost. Certain features such as GPU algorithms or federated learning are not available. To use these features, please upgrade to a recent Linux distro with glibc 2.28+, and install the 'manylinux_2_28' variant.\n",
      "  warnings.warn(\n",
      "/home/omarfetou7/anaconda3/envs/ml-lab1/lib/python3.11/site-packages/xgboost/core.py:377: FutureWarning: Your system has an old version of glibc (< 2.28). We will stop supporting Linux distros with glibc older than 2.28 after **May 31, 2025**. Please upgrade to a recent Linux distro (with glibc >= 2.28) to use future versions of XGBoost.\n",
      "Note: You have installed the 'manylinux2014' variant of XGBoost. Certain features such as GPU algorithms or federated learning are not available. To use these features, please upgrade to a recent Linux distro with glibc 2.28+, and install the 'manylinux_2_28' variant.\n",
      "  warnings.warn(\n",
      "/home/omarfetou7/anaconda3/envs/ml-lab1/lib/python3.11/site-packages/xgboost/core.py:377: FutureWarning: Your system has an old version of glibc (< 2.28). We will stop supporting Linux distros with glibc older than 2.28 after **May 31, 2025**. Please upgrade to a recent Linux distro (with glibc >= 2.28) to use future versions of XGBoost.\n",
      "Note: You have installed the 'manylinux2014' variant of XGBoost. Certain features such as GPU algorithms or federated learning are not available. To use these features, please upgrade to a recent Linux distro with glibc 2.28+, and install the 'manylinux_2_28' variant.\n",
      "  warnings.warn(\n",
      "/home/omarfetou7/anaconda3/envs/ml-lab1/lib/python3.11/site-packages/xgboost/core.py:377: FutureWarning: Your system has an old version of glibc (< 2.28). We will stop supporting Linux distros with glibc older than 2.28 after **May 31, 2025**. Please upgrade to a recent Linux distro (with glibc >= 2.28) to use future versions of XGBoost.\n",
      "Note: You have installed the 'manylinux2014' variant of XGBoost. Certain features such as GPU algorithms or federated learning are not available. To use these features, please upgrade to a recent Linux distro with glibc 2.28+, and install the 'manylinux_2_28' variant.\n",
      "  warnings.warn(\n",
      "/home/omarfetou7/anaconda3/envs/ml-lab1/lib/python3.11/site-packages/xgboost/core.py:377: FutureWarning: Your system has an old version of glibc (< 2.28). We will stop supporting Linux distros with glibc older than 2.28 after **May 31, 2025**. Please upgrade to a recent Linux distro (with glibc >= 2.28) to use future versions of XGBoost.\n",
      "Note: You have installed the 'manylinux2014' variant of XGBoost. Certain features such as GPU algorithms or federated learning are not available. To use these features, please upgrade to a recent Linux distro with glibc 2.28+, and install the 'manylinux_2_28' variant.\n",
      "  warnings.warn(\n",
      "/home/omarfetou7/anaconda3/envs/ml-lab1/lib/python3.11/site-packages/xgboost/core.py:377: FutureWarning: Your system has an old version of glibc (< 2.28). We will stop supporting Linux distros with glibc older than 2.28 after **May 31, 2025**. Please upgrade to a recent Linux distro (with glibc >= 2.28) to use future versions of XGBoost.\n",
      "Note: You have installed the 'manylinux2014' variant of XGBoost. Certain features such as GPU algorithms or federated learning are not available. To use these features, please upgrade to a recent Linux distro with glibc 2.28+, and install the 'manylinux_2_28' variant.\n",
      "  warnings.warn(\n"
     ]
    }
   ],
   "source": [
    "dec_tree = train('DecisionTree',X_train,y_train,5)\n",
    "ran_for = train('RandomForest',X_train,y_train,5)\n",
    "xgb = train('XGB',X_train,y_train,5)\n",
    "#lbg = train('LGB',X_train,y_train,3)\n",
    "#cat = train('CAT',X_train,y_train,3)"
   ]
  },
  {
   "cell_type": "code",
   "execution_count": 25,
   "id": "3c9d7c1c",
   "metadata": {},
   "outputs": [],
   "source": [
    "dec_tree_logs_test = eval(dec_tree,X_test,y_test)\n",
    "ran_for_logs_test = eval(ran_for,X_test,y_test)\n",
    "xgb_logs_test = eval(xgb,X_test,y_test)\n",
    "#lbg_logs = eval(lbg,X_test,y_test)\n",
    "#cat_logs = eval(cat,X_test,y_test)"
   ]
  },
  {
   "cell_type": "code",
   "execution_count": 26,
   "id": "d1f84355",
   "metadata": {},
   "outputs": [],
   "source": [
    "dec_treedf = pd.DataFrame(dec_tree_logs_test['report']).transpose()\n",
    "ran_fordf = pd.DataFrame(ran_for_logs_test['report']).transpose()\n",
    "xgbdf = pd.DataFrame(xgb_logs_test['report']).transpose()\n",
    "#catdf = pd.DataFrame(cat_logs['report']).transpose()"
   ]
  },
  {
   "cell_type": "code",
   "execution_count": 27,
   "id": "1bdcf8de",
   "metadata": {},
   "outputs": [],
   "source": [
    "dec_tree_logstrain = eval(dec_tree,X_train,y_train)\n",
    "ran_for_logstrain = eval(ran_for,X_train,y_train)\n",
    "xgb_logstrain = eval(xgb,X_train,y_train)"
   ]
  },
  {
   "cell_type": "code",
   "execution_count": 28,
   "id": "6d2125b2",
   "metadata": {},
   "outputs": [],
   "source": [
    "dec_treedftrain = pd.DataFrame(dec_tree_logstrain['report']).transpose()\n",
    "ran_fordftrain = pd.DataFrame(ran_for_logstrain['report']).transpose()\n",
    "xgbdftrain = pd.DataFrame(xgb_logstrain['report']).transpose()"
   ]
  },
  {
   "cell_type": "code",
   "execution_count": 29,
   "id": "4883d899",
   "metadata": {},
   "outputs": [
    {
     "data": {
      "text/html": [
       "<div>\n",
       "<style scoped>\n",
       "    .dataframe tbody tr th:only-of-type {\n",
       "        vertical-align: middle;\n",
       "    }\n",
       "\n",
       "    .dataframe tbody tr th {\n",
       "        vertical-align: top;\n",
       "    }\n",
       "\n",
       "    .dataframe thead th {\n",
       "        text-align: right;\n",
       "    }\n",
       "</style>\n",
       "<table border=\"1\" class=\"dataframe\">\n",
       "  <thead>\n",
       "    <tr style=\"text-align: right;\">\n",
       "      <th></th>\n",
       "      <th>precision</th>\n",
       "      <th>recall</th>\n",
       "      <th>f1-score</th>\n",
       "      <th>support</th>\n",
       "    </tr>\n",
       "  </thead>\n",
       "  <tbody>\n",
       "    <tr>\n",
       "      <th>0</th>\n",
       "      <td>0.880617</td>\n",
       "      <td>0.992441</td>\n",
       "      <td>0.933191</td>\n",
       "      <td>1323.000000</td>\n",
       "    </tr>\n",
       "    <tr>\n",
       "      <th>1</th>\n",
       "      <td>0.969040</td>\n",
       "      <td>0.637475</td>\n",
       "      <td>0.769042</td>\n",
       "      <td>491.000000</td>\n",
       "    </tr>\n",
       "    <tr>\n",
       "      <th>accuracy</th>\n",
       "      <td>0.896362</td>\n",
       "      <td>0.896362</td>\n",
       "      <td>0.896362</td>\n",
       "      <td>0.896362</td>\n",
       "    </tr>\n",
       "    <tr>\n",
       "      <th>macro avg</th>\n",
       "      <td>0.924829</td>\n",
       "      <td>0.814958</td>\n",
       "      <td>0.851116</td>\n",
       "      <td>1814.000000</td>\n",
       "    </tr>\n",
       "    <tr>\n",
       "      <th>weighted avg</th>\n",
       "      <td>0.904551</td>\n",
       "      <td>0.896362</td>\n",
       "      <td>0.888760</td>\n",
       "      <td>1814.000000</td>\n",
       "    </tr>\n",
       "  </tbody>\n",
       "</table>\n",
       "</div>"
      ],
      "text/plain": [
       "              precision    recall  f1-score      support\n",
       "0              0.880617  0.992441  0.933191  1323.000000\n",
       "1              0.969040  0.637475  0.769042   491.000000\n",
       "accuracy       0.896362  0.896362  0.896362     0.896362\n",
       "macro avg      0.924829  0.814958  0.851116  1814.000000\n",
       "weighted avg   0.904551  0.896362  0.888760  1814.000000"
      ]
     },
     "execution_count": 29,
     "metadata": {},
     "output_type": "execute_result"
    }
   ],
   "source": [
    "dec_treedf"
   ]
  },
  {
   "cell_type": "code",
   "execution_count": 30,
   "id": "b3b4dd83",
   "metadata": {},
   "outputs": [
    {
     "data": {
      "text/html": [
       "<div>\n",
       "<style scoped>\n",
       "    .dataframe tbody tr th:only-of-type {\n",
       "        vertical-align: middle;\n",
       "    }\n",
       "\n",
       "    .dataframe tbody tr th {\n",
       "        vertical-align: top;\n",
       "    }\n",
       "\n",
       "    .dataframe thead th {\n",
       "        text-align: right;\n",
       "    }\n",
       "</style>\n",
       "<table border=\"1\" class=\"dataframe\">\n",
       "  <thead>\n",
       "    <tr style=\"text-align: right;\">\n",
       "      <th></th>\n",
       "      <th>precision</th>\n",
       "      <th>recall</th>\n",
       "      <th>f1-score</th>\n",
       "      <th>support</th>\n",
       "    </tr>\n",
       "  </thead>\n",
       "  <tbody>\n",
       "    <tr>\n",
       "      <th>0</th>\n",
       "      <td>0.886452</td>\n",
       "      <td>0.992632</td>\n",
       "      <td>0.936542</td>\n",
       "      <td>5293.000000</td>\n",
       "    </tr>\n",
       "    <tr>\n",
       "      <th>1</th>\n",
       "      <td>0.970610</td>\n",
       "      <td>0.656808</td>\n",
       "      <td>0.783455</td>\n",
       "      <td>1961.000000</td>\n",
       "    </tr>\n",
       "    <tr>\n",
       "      <th>accuracy</th>\n",
       "      <td>0.901847</td>\n",
       "      <td>0.901847</td>\n",
       "      <td>0.901847</td>\n",
       "      <td>0.901847</td>\n",
       "    </tr>\n",
       "    <tr>\n",
       "      <th>macro avg</th>\n",
       "      <td>0.928531</td>\n",
       "      <td>0.824720</td>\n",
       "      <td>0.859998</td>\n",
       "      <td>7254.000000</td>\n",
       "    </tr>\n",
       "    <tr>\n",
       "      <th>weighted avg</th>\n",
       "      <td>0.909203</td>\n",
       "      <td>0.901847</td>\n",
       "      <td>0.895157</td>\n",
       "      <td>7254.000000</td>\n",
       "    </tr>\n",
       "  </tbody>\n",
       "</table>\n",
       "</div>"
      ],
      "text/plain": [
       "              precision    recall  f1-score      support\n",
       "0              0.886452  0.992632  0.936542  5293.000000\n",
       "1              0.970610  0.656808  0.783455  1961.000000\n",
       "accuracy       0.901847  0.901847  0.901847     0.901847\n",
       "macro avg      0.928531  0.824720  0.859998  7254.000000\n",
       "weighted avg   0.909203  0.901847  0.895157  7254.000000"
      ]
     },
     "execution_count": 30,
     "metadata": {},
     "output_type": "execute_result"
    }
   ],
   "source": [
    "dec_treedftrain"
   ]
  },
  {
   "cell_type": "code",
   "execution_count": 31,
   "id": "9975d7ee",
   "metadata": {},
   "outputs": [
    {
     "data": {
      "text/html": [
       "<div>\n",
       "<style scoped>\n",
       "    .dataframe tbody tr th:only-of-type {\n",
       "        vertical-align: middle;\n",
       "    }\n",
       "\n",
       "    .dataframe tbody tr th {\n",
       "        vertical-align: top;\n",
       "    }\n",
       "\n",
       "    .dataframe thead th {\n",
       "        text-align: right;\n",
       "    }\n",
       "</style>\n",
       "<table border=\"1\" class=\"dataframe\">\n",
       "  <thead>\n",
       "    <tr style=\"text-align: right;\">\n",
       "      <th></th>\n",
       "      <th>precision</th>\n",
       "      <th>recall</th>\n",
       "      <th>f1-score</th>\n",
       "      <th>support</th>\n",
       "    </tr>\n",
       "  </thead>\n",
       "  <tbody>\n",
       "    <tr>\n",
       "      <th>0</th>\n",
       "      <td>0.886716</td>\n",
       "      <td>0.993953</td>\n",
       "      <td>0.937277</td>\n",
       "      <td>1323.000000</td>\n",
       "    </tr>\n",
       "    <tr>\n",
       "      <th>1</th>\n",
       "      <td>0.975831</td>\n",
       "      <td>0.657841</td>\n",
       "      <td>0.785888</td>\n",
       "      <td>491.000000</td>\n",
       "    </tr>\n",
       "    <tr>\n",
       "      <th>accuracy</th>\n",
       "      <td>0.902977</td>\n",
       "      <td>0.902977</td>\n",
       "      <td>0.902977</td>\n",
       "      <td>0.902977</td>\n",
       "    </tr>\n",
       "    <tr>\n",
       "      <th>macro avg</th>\n",
       "      <td>0.931273</td>\n",
       "      <td>0.825897</td>\n",
       "      <td>0.861583</td>\n",
       "      <td>1814.000000</td>\n",
       "    </tr>\n",
       "    <tr>\n",
       "      <th>weighted avg</th>\n",
       "      <td>0.910837</td>\n",
       "      <td>0.902977</td>\n",
       "      <td>0.896300</td>\n",
       "      <td>1814.000000</td>\n",
       "    </tr>\n",
       "  </tbody>\n",
       "</table>\n",
       "</div>"
      ],
      "text/plain": [
       "              precision    recall  f1-score      support\n",
       "0              0.886716  0.993953  0.937277  1323.000000\n",
       "1              0.975831  0.657841  0.785888   491.000000\n",
       "accuracy       0.902977  0.902977  0.902977     0.902977\n",
       "macro avg      0.931273  0.825897  0.861583  1814.000000\n",
       "weighted avg   0.910837  0.902977  0.896300  1814.000000"
      ]
     },
     "execution_count": 31,
     "metadata": {},
     "output_type": "execute_result"
    }
   ],
   "source": [
    "ran_fordf"
   ]
  },
  {
   "cell_type": "code",
   "execution_count": 32,
   "id": "9eb95262",
   "metadata": {},
   "outputs": [
    {
     "data": {
      "text/html": [
       "<div>\n",
       "<style scoped>\n",
       "    .dataframe tbody tr th:only-of-type {\n",
       "        vertical-align: middle;\n",
       "    }\n",
       "\n",
       "    .dataframe tbody tr th {\n",
       "        vertical-align: top;\n",
       "    }\n",
       "\n",
       "    .dataframe thead th {\n",
       "        text-align: right;\n",
       "    }\n",
       "</style>\n",
       "<table border=\"1\" class=\"dataframe\">\n",
       "  <thead>\n",
       "    <tr style=\"text-align: right;\">\n",
       "      <th></th>\n",
       "      <th>precision</th>\n",
       "      <th>recall</th>\n",
       "      <th>f1-score</th>\n",
       "      <th>support</th>\n",
       "    </tr>\n",
       "  </thead>\n",
       "  <tbody>\n",
       "    <tr>\n",
       "      <th>0</th>\n",
       "      <td>0.998868</td>\n",
       "      <td>1.000000</td>\n",
       "      <td>0.999434</td>\n",
       "      <td>5293.000000</td>\n",
       "    </tr>\n",
       "    <tr>\n",
       "      <th>1</th>\n",
       "      <td>1.000000</td>\n",
       "      <td>0.996940</td>\n",
       "      <td>0.998468</td>\n",
       "      <td>1961.000000</td>\n",
       "    </tr>\n",
       "    <tr>\n",
       "      <th>accuracy</th>\n",
       "      <td>0.999173</td>\n",
       "      <td>0.999173</td>\n",
       "      <td>0.999173</td>\n",
       "      <td>0.999173</td>\n",
       "    </tr>\n",
       "    <tr>\n",
       "      <th>macro avg</th>\n",
       "      <td>0.999434</td>\n",
       "      <td>0.998470</td>\n",
       "      <td>0.998951</td>\n",
       "      <td>7254.000000</td>\n",
       "    </tr>\n",
       "    <tr>\n",
       "      <th>weighted avg</th>\n",
       "      <td>0.999174</td>\n",
       "      <td>0.999173</td>\n",
       "      <td>0.999172</td>\n",
       "      <td>7254.000000</td>\n",
       "    </tr>\n",
       "  </tbody>\n",
       "</table>\n",
       "</div>"
      ],
      "text/plain": [
       "              precision    recall  f1-score      support\n",
       "0              0.998868  1.000000  0.999434  5293.000000\n",
       "1              1.000000  0.996940  0.998468  1961.000000\n",
       "accuracy       0.999173  0.999173  0.999173     0.999173\n",
       "macro avg      0.999434  0.998470  0.998951  7254.000000\n",
       "weighted avg   0.999174  0.999173  0.999172  7254.000000"
      ]
     },
     "execution_count": 32,
     "metadata": {},
     "output_type": "execute_result"
    }
   ],
   "source": [
    "ran_fordftrain"
   ]
  },
  {
   "cell_type": "code",
   "execution_count": 33,
   "id": "703cf171",
   "metadata": {},
   "outputs": [
    {
     "data": {
      "text/html": [
       "<div>\n",
       "<style scoped>\n",
       "    .dataframe tbody tr th:only-of-type {\n",
       "        vertical-align: middle;\n",
       "    }\n",
       "\n",
       "    .dataframe tbody tr th {\n",
       "        vertical-align: top;\n",
       "    }\n",
       "\n",
       "    .dataframe thead th {\n",
       "        text-align: right;\n",
       "    }\n",
       "</style>\n",
       "<table border=\"1\" class=\"dataframe\">\n",
       "  <thead>\n",
       "    <tr style=\"text-align: right;\">\n",
       "      <th></th>\n",
       "      <th>precision</th>\n",
       "      <th>recall</th>\n",
       "      <th>f1-score</th>\n",
       "      <th>support</th>\n",
       "    </tr>\n",
       "  </thead>\n",
       "  <tbody>\n",
       "    <tr>\n",
       "      <th>0</th>\n",
       "      <td>0.907381</td>\n",
       "      <td>0.947846</td>\n",
       "      <td>0.927172</td>\n",
       "      <td>1323.0000</td>\n",
       "    </tr>\n",
       "    <tr>\n",
       "      <th>1</th>\n",
       "      <td>0.840278</td>\n",
       "      <td>0.739308</td>\n",
       "      <td>0.786566</td>\n",
       "      <td>491.0000</td>\n",
       "    </tr>\n",
       "    <tr>\n",
       "      <th>accuracy</th>\n",
       "      <td>0.891400</td>\n",
       "      <td>0.891400</td>\n",
       "      <td>0.891400</td>\n",
       "      <td>0.8914</td>\n",
       "    </tr>\n",
       "    <tr>\n",
       "      <th>macro avg</th>\n",
       "      <td>0.873829</td>\n",
       "      <td>0.843577</td>\n",
       "      <td>0.856869</td>\n",
       "      <td>1814.0000</td>\n",
       "    </tr>\n",
       "    <tr>\n",
       "      <th>weighted avg</th>\n",
       "      <td>0.889218</td>\n",
       "      <td>0.891400</td>\n",
       "      <td>0.889114</td>\n",
       "      <td>1814.0000</td>\n",
       "    </tr>\n",
       "  </tbody>\n",
       "</table>\n",
       "</div>"
      ],
      "text/plain": [
       "              precision    recall  f1-score    support\n",
       "0              0.907381  0.947846  0.927172  1323.0000\n",
       "1              0.840278  0.739308  0.786566   491.0000\n",
       "accuracy       0.891400  0.891400  0.891400     0.8914\n",
       "macro avg      0.873829  0.843577  0.856869  1814.0000\n",
       "weighted avg   0.889218  0.891400  0.889114  1814.0000"
      ]
     },
     "execution_count": 33,
     "metadata": {},
     "output_type": "execute_result"
    }
   ],
   "source": [
    "xgbdf"
   ]
  },
  {
   "cell_type": "code",
   "execution_count": 34,
   "id": "b68b4a48",
   "metadata": {},
   "outputs": [
    {
     "data": {
      "text/html": [
       "<div>\n",
       "<style scoped>\n",
       "    .dataframe tbody tr th:only-of-type {\n",
       "        vertical-align: middle;\n",
       "    }\n",
       "\n",
       "    .dataframe tbody tr th {\n",
       "        vertical-align: top;\n",
       "    }\n",
       "\n",
       "    .dataframe thead th {\n",
       "        text-align: right;\n",
       "    }\n",
       "</style>\n",
       "<table border=\"1\" class=\"dataframe\">\n",
       "  <thead>\n",
       "    <tr style=\"text-align: right;\">\n",
       "      <th></th>\n",
       "      <th>precision</th>\n",
       "      <th>recall</th>\n",
       "      <th>f1-score</th>\n",
       "      <th>support</th>\n",
       "    </tr>\n",
       "  </thead>\n",
       "  <tbody>\n",
       "    <tr>\n",
       "      <th>0</th>\n",
       "      <td>0.970621</td>\n",
       "      <td>0.992443</td>\n",
       "      <td>0.981411</td>\n",
       "      <td>5293.000000</td>\n",
       "    </tr>\n",
       "    <tr>\n",
       "      <th>1</th>\n",
       "      <td>0.978284</td>\n",
       "      <td>0.918919</td>\n",
       "      <td>0.947673</td>\n",
       "      <td>1961.000000</td>\n",
       "    </tr>\n",
       "    <tr>\n",
       "      <th>accuracy</th>\n",
       "      <td>0.972567</td>\n",
       "      <td>0.972567</td>\n",
       "      <td>0.972567</td>\n",
       "      <td>0.972567</td>\n",
       "    </tr>\n",
       "    <tr>\n",
       "      <th>macro avg</th>\n",
       "      <td>0.974453</td>\n",
       "      <td>0.955681</td>\n",
       "      <td>0.964542</td>\n",
       "      <td>7254.000000</td>\n",
       "    </tr>\n",
       "    <tr>\n",
       "      <th>weighted avg</th>\n",
       "      <td>0.972693</td>\n",
       "      <td>0.972567</td>\n",
       "      <td>0.972290</td>\n",
       "      <td>7254.000000</td>\n",
       "    </tr>\n",
       "  </tbody>\n",
       "</table>\n",
       "</div>"
      ],
      "text/plain": [
       "              precision    recall  f1-score      support\n",
       "0              0.970621  0.992443  0.981411  5293.000000\n",
       "1              0.978284  0.918919  0.947673  1961.000000\n",
       "accuracy       0.972567  0.972567  0.972567     0.972567\n",
       "macro avg      0.974453  0.955681  0.964542  7254.000000\n",
       "weighted avg   0.972693  0.972567  0.972290  7254.000000"
      ]
     },
     "execution_count": 34,
     "metadata": {},
     "output_type": "execute_result"
    }
   ],
   "source": [
    "xgbdftrain"
   ]
  },
  {
   "cell_type": "code",
   "execution_count": 35,
   "id": "d8d99ac2",
   "metadata": {},
   "outputs": [],
   "source": [
    "import matplotlib.pyplot as plt"
   ]
  },
  {
   "cell_type": "code",
   "execution_count": 36,
   "id": "f2074c9c",
   "metadata": {},
   "outputs": [],
   "source": [
    "def plot_feature_importance(model, feature_names, top_n=10):\n",
    "    \"\"\"\n",
    "    Plots the top_n most significant features based on feature importance from a fitted model.\n",
    "    Args:\n",
    "        model: Trained tree-based model with feature_importances_ attribute.\n",
    "        feature_names: List of feature names.\n",
    "        top_n: Number of top features to display.\n",
    "    \"\"\"\n",
    "    importances = model.feature_importances_\n",
    "    feat_imp = pd.Series(importances, index=feature_names)\n",
    "    top_features = feat_imp.sort_values(ascending=False).head(top_n)\n",
    "\n",
    "    plt.figure(figsize=(8, 6))\n",
    "    top_features.plot(kind='barh')\n",
    "    plt.title(f'Top {top_n} Feature Importances')\n",
    "    plt.xlabel('Importance')\n",
    "    plt.gca().invert_yaxis()\n",
    "    plt.tight_layout()\n",
    "    plt.show()\n",
    "    print(top_features)"
   ]
  },
  {
   "cell_type": "code",
   "execution_count": 38,
   "id": "c364d348",
   "metadata": {},
   "outputs": [
    {
     "data": {
      "image/png": "[encoded data removed]",
      "text/plain": [
       "<Figure size 800x600 with 1 Axes>"
      ]
     },
     "metadata": {},
     "output_type": "display_data"
    },
    {
     "name": "stdout",
     "output_type": "stream",
     "text": [
      "Created At Month           0.600646\n",
      "Confirmed Email            0.269130\n",
      "comp_activity_count        0.049582\n",
      "discussions_count          0.022458\n",
      "badge_activity_count       0.015031\n",
      "Updated Discussion         0.013125\n",
      "Viewed All Discussions     0.010712\n",
      "Created At Day_of_month    0.009848\n",
      "subm count 8               0.005998\n",
      "Viewed All Competitions    0.001444\n",
      "dtype: float64\n"
     ]
    }
   ],
   "source": [
    "plot_feature_importance(dec_tree.best_estimator_.get_params()['model'],X_train.columns)"
   ]
  }
 ],
 "metadata": {
  "kernelspec": {
   "display_name": "ml-lab1",
   "language": "python",
   "name": "python3"
  },
  "language_info": {
   "codemirror_mode": {
    "name": "ipython",
    "version": 3
   },
   "file_extension": ".py",
   "mimetype": "text/x-python",
   "name": "python",
   "nbconvert_exporter": "python",
   "pygments_lexer": "ipython3",
   "version": "3.11.13"
  }
 },
 "nbformat": 4,
 "nbformat_minor": 5
}
