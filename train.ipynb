{
 "cells": [
  {
   "cell_type": "code",
   "execution_count": 129,
   "id": "cb03aedb",
   "metadata": {},
   "outputs": [
    {
     "name": "stdout",
     "output_type": "stream",
     "text": [
      "The autoreload extension is already loaded. To reload it, use:\n",
      "  %reload_ext autoreload\n"
     ]
    }
   ],
   "source": [
    "%load_ext autoreload\n",
    "%autoreload 2\n",
    "import pandas as pd\n",
    "import numpy as np\n",
    "from train import load_dataset,train,eval"
   ]
  },
  {
   "cell_type": "code",
   "execution_count": 130,
   "id": "11b54583",
   "metadata": {},
   "outputs": [],
   "source": [
    "X_train, X_test, y_train, y_test = load_dataset(test_size=0.2)"
   ]
  },
  {
   "cell_type": "code",
   "execution_count": 131,
   "id": "9666f278",
   "metadata": {},
   "outputs": [],
   "source": [
    "dec_tree = train('DecisionTree',X_train,y_train,3)\n",
    "ran_for = train('RandomForest',X_train,y_train,3)\n",
    "xgb = train('XGB',X_train,y_train,3)\n",
    "#lbg = train('LGB',X_train,y_train,3)\n",
    "#cat = train('CAT',X_train,y_train,3)"
   ]
  },
  {
   "cell_type": "code",
   "execution_count": 132,
   "id": "3c9d7c1c",
   "metadata": {},
   "outputs": [],
   "source": [
    "dec_tree_logs_test = eval(dec_tree,X_test,y_test)\n",
    "ran_for_logs_test = eval(ran_for,X_test,y_test)\n",
    "xgb_logs_test = eval(xgb,X_test,y_test)\n",
    "#lbg_logs = eval(lbg,X_test,y_test)\n",
    "#cat_logs = eval(cat,X_test,y_test)"
   ]
  },
  {
   "cell_type": "code",
   "execution_count": 133,
   "id": "d1f84355",
   "metadata": {},
   "outputs": [],
   "source": [
    "dec_treedf = pd.DataFrame(dec_tree_logs_test['report']).transpose()\n",
    "ran_fordf = pd.DataFrame(ran_for_logs_test['report']).transpose()\n",
    "xgbdf = pd.DataFrame(xgb_logs_test['report']).transpose()\n",
    "#catdf = pd.DataFrame(cat_logs['report']).transpose()"
   ]
  },
  {
   "cell_type": "code",
   "execution_count": 134,
   "id": "1bdcf8de",
   "metadata": {},
   "outputs": [],
   "source": [
    "dec_tree_logstrain = eval(dec_tree,X_train,y_train)\n",
    "ran_for_logstrain = eval(ran_for,X_train,y_train)\n",
    "xgb_logstrain = eval(xgb,X_train,y_train)"
   ]
  },
  {
   "cell_type": "code",
   "execution_count": 135,
   "id": "6d2125b2",
   "metadata": {},
   "outputs": [],
   "source": [
    "dec_treedftrain = pd.DataFrame(dec_tree_logstrain['report']).transpose()\n",
    "ran_fordftrain = pd.DataFrame(ran_for_logstrain['report']).transpose()\n",
    "xgbdftrain = pd.DataFrame(xgb_logstrain['report']).transpose()"
   ]
  },
  {
   "cell_type": "code",
   "execution_count": 136,
   "id": "4883d899",
   "metadata": {},
   "outputs": [
    {
     "data": {
      "text/html": [
       "<div>\n",
       "<style scoped>\n",
       "    .dataframe tbody tr th:only-of-type {\n",
       "        vertical-align: middle;\n",
       "    }\n",
       "\n",
       "    .dataframe tbody tr th {\n",
       "        vertical-align: top;\n",
       "    }\n",
       "\n",
       "    .dataframe thead th {\n",
       "        text-align: right;\n",
       "    }\n",
       "</style>\n",
       "<table border=\"1\" class=\"dataframe\">\n",
       "  <thead>\n",
       "    <tr style=\"text-align: right;\">\n",
       "      <th></th>\n",
       "      <th>precision</th>\n",
       "      <th>recall</th>\n",
       "      <th>f1-score</th>\n",
       "      <th>support</th>\n",
       "    </tr>\n",
       "  </thead>\n",
       "  <tbody>\n",
       "    <tr>\n",
       "      <th>0</th>\n",
       "      <td>0.881436</td>\n",
       "      <td>0.987102</td>\n",
       "      <td>0.931281</td>\n",
       "      <td>1318.000000</td>\n",
       "    </tr>\n",
       "    <tr>\n",
       "      <th>1</th>\n",
       "      <td>0.949704</td>\n",
       "      <td>0.647177</td>\n",
       "      <td>0.769784</td>\n",
       "      <td>496.000000</td>\n",
       "    </tr>\n",
       "    <tr>\n",
       "      <th>accuracy</th>\n",
       "      <td>0.894157</td>\n",
       "      <td>0.894157</td>\n",
       "      <td>0.894157</td>\n",
       "      <td>0.894157</td>\n",
       "    </tr>\n",
       "    <tr>\n",
       "      <th>macro avg</th>\n",
       "      <td>0.915570</td>\n",
       "      <td>0.817140</td>\n",
       "      <td>0.850533</td>\n",
       "      <td>1814.000000</td>\n",
       "    </tr>\n",
       "    <tr>\n",
       "      <th>weighted avg</th>\n",
       "      <td>0.900103</td>\n",
       "      <td>0.894157</td>\n",
       "      <td>0.887123</td>\n",
       "      <td>1814.000000</td>\n",
       "    </tr>\n",
       "  </tbody>\n",
       "</table>\n",
       "</div>"
      ],
      "text/plain": [
       "              precision    recall  f1-score      support\n",
       "0              0.881436  0.987102  0.931281  1318.000000\n",
       "1              0.949704  0.647177  0.769784   496.000000\n",
       "accuracy       0.894157  0.894157  0.894157     0.894157\n",
       "macro avg      0.915570  0.817140  0.850533  1814.000000\n",
       "weighted avg   0.900103  0.894157  0.887123  1814.000000"
      ]
     },
     "execution_count": 136,
     "metadata": {},
     "output_type": "execute_result"
    }
   ],
   "source": [
    "dec_treedf"
   ]
  },
  {
   "cell_type": "code",
   "execution_count": 137,
   "id": "b3b4dd83",
   "metadata": {},
   "outputs": [
    {
     "data": {
      "text/html": [
       "<div>\n",
       "<style scoped>\n",
       "    .dataframe tbody tr th:only-of-type {\n",
       "        vertical-align: middle;\n",
       "    }\n",
       "\n",
       "    .dataframe tbody tr th {\n",
       "        vertical-align: top;\n",
       "    }\n",
       "\n",
       "    .dataframe thead th {\n",
       "        text-align: right;\n",
       "    }\n",
       "</style>\n",
       "<table border=\"1\" class=\"dataframe\">\n",
       "  <thead>\n",
       "    <tr style=\"text-align: right;\">\n",
       "      <th></th>\n",
       "      <th>precision</th>\n",
       "      <th>recall</th>\n",
       "      <th>f1-score</th>\n",
       "      <th>support</th>\n",
       "    </tr>\n",
       "  </thead>\n",
       "  <tbody>\n",
       "    <tr>\n",
       "      <th>0</th>\n",
       "      <td>0.884478</td>\n",
       "      <td>0.989374</td>\n",
       "      <td>0.933990</td>\n",
       "      <td>5270.000000</td>\n",
       "    </tr>\n",
       "    <tr>\n",
       "      <th>1</th>\n",
       "      <td>0.958793</td>\n",
       "      <td>0.656754</td>\n",
       "      <td>0.779539</td>\n",
       "      <td>1984.000000</td>\n",
       "    </tr>\n",
       "    <tr>\n",
       "      <th>accuracy</th>\n",
       "      <td>0.898401</td>\n",
       "      <td>0.898401</td>\n",
       "      <td>0.898401</td>\n",
       "      <td>0.898401</td>\n",
       "    </tr>\n",
       "    <tr>\n",
       "      <th>macro avg</th>\n",
       "      <td>0.921636</td>\n",
       "      <td>0.823064</td>\n",
       "      <td>0.856765</td>\n",
       "      <td>7254.000000</td>\n",
       "    </tr>\n",
       "    <tr>\n",
       "      <th>weighted avg</th>\n",
       "      <td>0.904804</td>\n",
       "      <td>0.898401</td>\n",
       "      <td>0.891747</td>\n",
       "      <td>7254.000000</td>\n",
       "    </tr>\n",
       "  </tbody>\n",
       "</table>\n",
       "</div>"
      ],
      "text/plain": [
       "              precision    recall  f1-score      support\n",
       "0              0.884478  0.989374  0.933990  5270.000000\n",
       "1              0.958793  0.656754  0.779539  1984.000000\n",
       "accuracy       0.898401  0.898401  0.898401     0.898401\n",
       "macro avg      0.921636  0.823064  0.856765  7254.000000\n",
       "weighted avg   0.904804  0.898401  0.891747  7254.000000"
      ]
     },
     "execution_count": 137,
     "metadata": {},
     "output_type": "execute_result"
    }
   ],
   "source": [
    "dec_treedftrain"
   ]
  },
  {
   "cell_type": "code",
   "execution_count": 138,
   "id": "9975d7ee",
   "metadata": {},
   "outputs": [
    {
     "data": {
      "text/html": [
       "<div>\n",
       "<style scoped>\n",
       "    .dataframe tbody tr th:only-of-type {\n",
       "        vertical-align: middle;\n",
       "    }\n",
       "\n",
       "    .dataframe tbody tr th {\n",
       "        vertical-align: top;\n",
       "    }\n",
       "\n",
       "    .dataframe thead th {\n",
       "        text-align: right;\n",
       "    }\n",
       "</style>\n",
       "<table border=\"1\" class=\"dataframe\">\n",
       "  <thead>\n",
       "    <tr style=\"text-align: right;\">\n",
       "      <th></th>\n",
       "      <th>precision</th>\n",
       "      <th>recall</th>\n",
       "      <th>f1-score</th>\n",
       "      <th>support</th>\n",
       "    </tr>\n",
       "  </thead>\n",
       "  <tbody>\n",
       "    <tr>\n",
       "      <th>0</th>\n",
       "      <td>0.883029</td>\n",
       "      <td>0.990895</td>\n",
       "      <td>0.933858</td>\n",
       "      <td>1318.000000</td>\n",
       "    </tr>\n",
       "    <tr>\n",
       "      <th>1</th>\n",
       "      <td>0.964179</td>\n",
       "      <td>0.651210</td>\n",
       "      <td>0.777377</td>\n",
       "      <td>496.000000</td>\n",
       "    </tr>\n",
       "    <tr>\n",
       "      <th>accuracy</th>\n",
       "      <td>0.898015</td>\n",
       "      <td>0.898015</td>\n",
       "      <td>0.898015</td>\n",
       "      <td>0.898015</td>\n",
       "    </tr>\n",
       "    <tr>\n",
       "      <th>macro avg</th>\n",
       "      <td>0.923604</td>\n",
       "      <td>0.821052</td>\n",
       "      <td>0.855617</td>\n",
       "      <td>1814.000000</td>\n",
       "    </tr>\n",
       "    <tr>\n",
       "      <th>weighted avg</th>\n",
       "      <td>0.905218</td>\n",
       "      <td>0.898015</td>\n",
       "      <td>0.891071</td>\n",
       "      <td>1814.000000</td>\n",
       "    </tr>\n",
       "  </tbody>\n",
       "</table>\n",
       "</div>"
      ],
      "text/plain": [
       "              precision    recall  f1-score      support\n",
       "0              0.883029  0.990895  0.933858  1318.000000\n",
       "1              0.964179  0.651210  0.777377   496.000000\n",
       "accuracy       0.898015  0.898015  0.898015     0.898015\n",
       "macro avg      0.923604  0.821052  0.855617  1814.000000\n",
       "weighted avg   0.905218  0.898015  0.891071  1814.000000"
      ]
     },
     "execution_count": 138,
     "metadata": {},
     "output_type": "execute_result"
    }
   ],
   "source": [
    "ran_fordf"
   ]
  },
  {
   "cell_type": "code",
   "execution_count": 139,
   "id": "9eb95262",
   "metadata": {},
   "outputs": [
    {
     "data": {
      "text/html": [
       "<div>\n",
       "<style scoped>\n",
       "    .dataframe tbody tr th:only-of-type {\n",
       "        vertical-align: middle;\n",
       "    }\n",
       "\n",
       "    .dataframe tbody tr th {\n",
       "        vertical-align: top;\n",
       "    }\n",
       "\n",
       "    .dataframe thead th {\n",
       "        text-align: right;\n",
       "    }\n",
       "</style>\n",
       "<table border=\"1\" class=\"dataframe\">\n",
       "  <thead>\n",
       "    <tr style=\"text-align: right;\">\n",
       "      <th></th>\n",
       "      <th>precision</th>\n",
       "      <th>recall</th>\n",
       "      <th>f1-score</th>\n",
       "      <th>support</th>\n",
       "    </tr>\n",
       "  </thead>\n",
       "  <tbody>\n",
       "    <tr>\n",
       "      <th>0</th>\n",
       "      <td>1.0</td>\n",
       "      <td>1.0</td>\n",
       "      <td>1.0</td>\n",
       "      <td>5270.0</td>\n",
       "    </tr>\n",
       "    <tr>\n",
       "      <th>1</th>\n",
       "      <td>1.0</td>\n",
       "      <td>1.0</td>\n",
       "      <td>1.0</td>\n",
       "      <td>1984.0</td>\n",
       "    </tr>\n",
       "    <tr>\n",
       "      <th>accuracy</th>\n",
       "      <td>1.0</td>\n",
       "      <td>1.0</td>\n",
       "      <td>1.0</td>\n",
       "      <td>1.0</td>\n",
       "    </tr>\n",
       "    <tr>\n",
       "      <th>macro avg</th>\n",
       "      <td>1.0</td>\n",
       "      <td>1.0</td>\n",
       "      <td>1.0</td>\n",
       "      <td>7254.0</td>\n",
       "    </tr>\n",
       "    <tr>\n",
       "      <th>weighted avg</th>\n",
       "      <td>1.0</td>\n",
       "      <td>1.0</td>\n",
       "      <td>1.0</td>\n",
       "      <td>7254.0</td>\n",
       "    </tr>\n",
       "  </tbody>\n",
       "</table>\n",
       "</div>"
      ],
      "text/plain": [
       "              precision  recall  f1-score  support\n",
       "0                   1.0     1.0       1.0   5270.0\n",
       "1                   1.0     1.0       1.0   1984.0\n",
       "accuracy            1.0     1.0       1.0      1.0\n",
       "macro avg           1.0     1.0       1.0   7254.0\n",
       "weighted avg        1.0     1.0       1.0   7254.0"
      ]
     },
     "execution_count": 139,
     "metadata": {},
     "output_type": "execute_result"
    }
   ],
   "source": [
    "ran_fordftrain"
   ]
  },
  {
   "cell_type": "code",
   "execution_count": 140,
   "id": "703cf171",
   "metadata": {},
   "outputs": [
    {
     "data": {
      "text/html": [
       "<div>\n",
       "<style scoped>\n",
       "    .dataframe tbody tr th:only-of-type {\n",
       "        vertical-align: middle;\n",
       "    }\n",
       "\n",
       "    .dataframe tbody tr th {\n",
       "        vertical-align: top;\n",
       "    }\n",
       "\n",
       "    .dataframe thead th {\n",
       "        text-align: right;\n",
       "    }\n",
       "</style>\n",
       "<table border=\"1\" class=\"dataframe\">\n",
       "  <thead>\n",
       "    <tr style=\"text-align: right;\">\n",
       "      <th></th>\n",
       "      <th>precision</th>\n",
       "      <th>recall</th>\n",
       "      <th>f1-score</th>\n",
       "      <th>support</th>\n",
       "    </tr>\n",
       "  </thead>\n",
       "  <tbody>\n",
       "    <tr>\n",
       "      <th>0</th>\n",
       "      <td>0.907771</td>\n",
       "      <td>0.948407</td>\n",
       "      <td>0.927644</td>\n",
       "      <td>1318.000000</td>\n",
       "    </tr>\n",
       "    <tr>\n",
       "      <th>1</th>\n",
       "      <td>0.844394</td>\n",
       "      <td>0.743952</td>\n",
       "      <td>0.790997</td>\n",
       "      <td>496.000000</td>\n",
       "    </tr>\n",
       "    <tr>\n",
       "      <th>accuracy</th>\n",
       "      <td>0.892503</td>\n",
       "      <td>0.892503</td>\n",
       "      <td>0.892503</td>\n",
       "      <td>0.892503</td>\n",
       "    </tr>\n",
       "    <tr>\n",
       "      <th>macro avg</th>\n",
       "      <td>0.876082</td>\n",
       "      <td>0.846179</td>\n",
       "      <td>0.859320</td>\n",
       "      <td>1814.000000</td>\n",
       "    </tr>\n",
       "    <tr>\n",
       "      <th>weighted avg</th>\n",
       "      <td>0.890441</td>\n",
       "      <td>0.892503</td>\n",
       "      <td>0.890281</td>\n",
       "      <td>1814.000000</td>\n",
       "    </tr>\n",
       "  </tbody>\n",
       "</table>\n",
       "</div>"
      ],
      "text/plain": [
       "              precision    recall  f1-score      support\n",
       "0              0.907771  0.948407  0.927644  1318.000000\n",
       "1              0.844394  0.743952  0.790997   496.000000\n",
       "accuracy       0.892503  0.892503  0.892503     0.892503\n",
       "macro avg      0.876082  0.846179  0.859320  1814.000000\n",
       "weighted avg   0.890441  0.892503  0.890281  1814.000000"
      ]
     },
     "execution_count": 140,
     "metadata": {},
     "output_type": "execute_result"
    }
   ],
   "source": [
    "xgbdf"
   ]
  },
  {
   "cell_type": "code",
   "execution_count": 141,
   "id": "b68b4a48",
   "metadata": {},
   "outputs": [
    {
     "data": {
      "text/html": [
       "<div>\n",
       "<style scoped>\n",
       "    .dataframe tbody tr th:only-of-type {\n",
       "        vertical-align: middle;\n",
       "    }\n",
       "\n",
       "    .dataframe tbody tr th {\n",
       "        vertical-align: top;\n",
       "    }\n",
       "\n",
       "    .dataframe thead th {\n",
       "        text-align: right;\n",
       "    }\n",
       "</style>\n",
       "<table border=\"1\" class=\"dataframe\">\n",
       "  <thead>\n",
       "    <tr style=\"text-align: right;\">\n",
       "      <th></th>\n",
       "      <th>precision</th>\n",
       "      <th>recall</th>\n",
       "      <th>f1-score</th>\n",
       "      <th>support</th>\n",
       "    </tr>\n",
       "  </thead>\n",
       "  <tbody>\n",
       "    <tr>\n",
       "      <th>0</th>\n",
       "      <td>0.969764</td>\n",
       "      <td>0.992030</td>\n",
       "      <td>0.980771</td>\n",
       "      <td>5270.00000</td>\n",
       "    </tr>\n",
       "    <tr>\n",
       "      <th>1</th>\n",
       "      <td>0.977456</td>\n",
       "      <td>0.917843</td>\n",
       "      <td>0.946712</td>\n",
       "      <td>1984.00000</td>\n",
       "    </tr>\n",
       "    <tr>\n",
       "      <th>accuracy</th>\n",
       "      <td>0.971740</td>\n",
       "      <td>0.971740</td>\n",
       "      <td>0.971740</td>\n",
       "      <td>0.97174</td>\n",
       "    </tr>\n",
       "    <tr>\n",
       "      <th>macro avg</th>\n",
       "      <td>0.973610</td>\n",
       "      <td>0.954937</td>\n",
       "      <td>0.963741</td>\n",
       "      <td>7254.00000</td>\n",
       "    </tr>\n",
       "    <tr>\n",
       "      <th>weighted avg</th>\n",
       "      <td>0.971868</td>\n",
       "      <td>0.971740</td>\n",
       "      <td>0.971456</td>\n",
       "      <td>7254.00000</td>\n",
       "    </tr>\n",
       "  </tbody>\n",
       "</table>\n",
       "</div>"
      ],
      "text/plain": [
       "              precision    recall  f1-score     support\n",
       "0              0.969764  0.992030  0.980771  5270.00000\n",
       "1              0.977456  0.917843  0.946712  1984.00000\n",
       "accuracy       0.971740  0.971740  0.971740     0.97174\n",
       "macro avg      0.973610  0.954937  0.963741  7254.00000\n",
       "weighted avg   0.971868  0.971740  0.971456  7254.00000"
      ]
     },
     "execution_count": 141,
     "metadata": {},
     "output_type": "execute_result"
    }
   ],
   "source": [
    "xgbdftrain"
   ]
  },
  {
   "cell_type": "code",
   "execution_count": 142,
   "id": "d8d99ac2",
   "metadata": {},
   "outputs": [],
   "source": [
    "import matplotlib.pyplot as plt"
   ]
  },
  {
   "cell_type": "code",
   "execution_count": 143,
   "id": "f2074c9c",
   "metadata": {},
   "outputs": [],
   "source": [
    "def plot_feature_importance(model, feature_names, top_n=10):\n",
    "    \"\"\"\n",
    "    Plots the top_n most significant features based on feature importance from a fitted model.\n",
    "    Args:\n",
    "        model: Trained tree-based model with feature_importances_ attribute.\n",
    "        feature_names: List of feature names.\n",
    "        top_n: Number of top features to display.\n",
    "    \"\"\"\n",
    "    importances = model.feature_importances_\n",
    "    feat_imp = pd.Series(importances, index=feature_names)\n",
    "    top_features = feat_imp.sort_values(ascending=False).head(top_n)\n",
    "\n",
    "    plt.figure(figsize=(8, 6))\n",
    "    top_features.plot(kind='barh')\n",
    "    plt.title(f'Top {top_n} Feature Importances')\n",
    "    plt.xlabel('Importance')\n",
    "    plt.gca().invert_yaxis()\n",
    "    plt.tight_layout()\n",
    "    plt.show()\n",
    "    print(top_features)"
   ]
  },
  {
   "cell_type": "code",
   "execution_count": 144,
   "id": "c364d348",
   "metadata": {},
   "outputs": [
    {
     "data": {
      "image/png": "[encoded data removed]",
      "text/plain": [
       "<Figure size 800x600 with 1 Axes>"
      ]
     },
     "metadata": {},
     "output_type": "display_data"
    },
    {
     "name": "stdout",
     "output_type": "stream",
     "text": [
      "Created At Month                   0.230777\n",
      "Confirmed Email                    0.220684\n",
      "badge_activity_count               0.101524\n",
      "comp_activity_count                0.036614\n",
      "discussions_count                  0.024716\n",
      "Viewed All Discussions             0.024378\n",
      "Invited Member To Team             0.022442\n",
      "subm count 10                      0.019810\n",
      "Created Submission                 0.017359\n",
      "Downloaded Competition Datafile    0.016912\n",
      "dtype: float32\n"
     ]
    }
   ],
   "source": [
    "plot_feature_importance(xgb.best_estimator_.get_params()['model'],X_train.columns)"
   ]
  }
 ],
 "metadata": {
  "kernelspec": {
   "display_name": "lab2",
   "language": "python",
   "name": "python3"
  },
  "language_info": {
   "codemirror_mode": {
    "name": "ipython",
    "version": 3
   },
   "file_extension": ".py",
   "mimetype": "text/x-python",
   "name": "python",
   "nbconvert_exporter": "python",
   "pygments_lexer": "ipython3",
   "version": "3.12.11"
  }
 },
 "nbformat": 4,
 "nbformat_minor": 5
}
