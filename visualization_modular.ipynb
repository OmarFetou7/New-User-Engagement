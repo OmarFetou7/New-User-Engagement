{
 "cells": [
  {
   "cell_type": "markdown",
   "id": "4becd8e6",
   "metadata": {},
   "source": [
    "# Import Required Libraries\n",
    "Import pandas, matplotlib, seaborn, and other required libraries for data analysis and visualization."
   ]
  },
  {
   "cell_type": "code",
   "execution_count": null,
   "id": "21aabdea",
   "metadata": {},
   "outputs": [],
   "source": [
    "from data_preprocessing.visualization_modular import data_overview, numeric_feature_distributions, correlation_and_feature_importance, pca_analysis, tsne_analysis,plot_feature_distributions"
   ]
  },
  {
   "cell_type": "markdown",
   "id": "7c15904a",
   "metadata": {},
   "source": [
    "# Load Dataset\n",
    "Load the main DataFrame from the CSV file."
   ]
  },
  {
   "cell_type": "code",
   "execution_count": null,
   "id": "d26fa99f",
   "metadata": {},
   "outputs": [],
   "source": [
    "df = pd.read_csv(\"/home/omarfetou7/workspace/ML_MBZ/ML/project/data/data.csv\")\n",
    "df.head()"
   ]
  },
  {
   "cell_type": "markdown",
   "id": "794d35cf",
   "metadata": {},
   "source": [
    "# Data Overview\n",
    "Call the data overview function to display target distribution, missing values, and summary statistics."
   ]
  },
  {
   "cell_type": "code",
   "execution_count": null,
   "id": "fc365639",
   "metadata": {},
   "outputs": [],
   "source": [
    "data_overview(df)"
   ]
  },
  {
   "cell_type": "markdown",
   "id": "0e83562a",
   "metadata": {},
   "source": [
    "# Numeric Feature Distributions\n",
    "Call the function to plot distributions of all numeric features by target."
   ]
  },
  {
   "cell_type": "code",
   "execution_count": null,
   "id": "0d85c808",
   "metadata": {},
   "outputs": [],
   "source": [
    "numeric_feature_distributions(df)"
   ]
  },
  {
   "cell_type": "markdown",
   "id": "cb74f337",
   "metadata": {},
   "source": [
    "# Correlation & Feature Importance\n",
    "Call the function to show correlations and mutual information scores for numeric features."
   ]
  },
  {
   "cell_type": "code",
   "execution_count": null,
   "id": "92b3726f",
   "metadata": {},
   "outputs": [],
   "source": [
    "correlation_and_feature_importance(df)"
   ]
  },
  {
   "cell_type": "markdown",
   "id": "17985d31",
   "metadata": {},
   "source": [
    "# Feature Distribution and Box Plot"
   ]
  },
  {
   "cell_type": "code",
   "execution_count": null,
   "id": "c729e6b4",
   "metadata": {},
   "outputs": [],
   "source": [
    "plot_feature_distributions(df)"
   ]
  },
  {
   "cell_type": "markdown",
   "id": "71b8a664",
   "metadata": {},
   "source": [
    "# PCA Analysis\n",
    "Call the function to perform PCA and show reconstruction error and explained variance."
   ]
  },
  {
   "cell_type": "code",
   "execution_count": null,
   "id": "ba13b3b5",
   "metadata": {},
   "outputs": [],
   "source": [
    "pca_analysis(df)"
   ]
  },
  {
   "cell_type": "markdown",
   "id": "073ab0fa",
   "metadata": {},
   "source": [
    "# t-SNE Analysis\n",
    "Call the function to perform t-SNE and plot 2D and 3D embeddings."
   ]
  },
  {
   "cell_type": "code",
   "execution_count": null,
   "id": "3b31db6a",
   "metadata": {},
   "outputs": [],
   "source": [
    "tsne_analysis(df)"
   ]
  }
 ],
 "metadata": {
  "kernelspec": {
   "display_name": "ml-lab1",
   "language": "python",
   "name": "python3"
  },
  "language_info": {
   "codemirror_mode": {
    "name": "ipython",
    "version": 3
   },
   "file_extension": ".py",
   "mimetype": "text/x-python",
   "name": "python",
   "nbconvert_exporter": "python",
   "pygments_lexer": "ipython3",
   "version": "3.11.13"
  }
 },
 "nbformat": 4,
 "nbformat_minor": 5
}
